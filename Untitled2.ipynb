{
 "cells": [
  {
   "cell_type": "code",
   "execution_count": 10,
   "id": "e313937c",
   "metadata": {},
   "outputs": [
    {
     "ename": "SyntaxError",
     "evalue": "invalid syntax (2925166737.py, line 10)",
     "output_type": "error",
     "traceback": [
      "\u001b[0;36m  Input \u001b[0;32mIn [10]\u001b[0;36m\u001b[0m\n\u001b[0;31m    ```\u001b[0m\n\u001b[0m    ^\u001b[0m\n\u001b[0;31mSyntaxError\u001b[0m\u001b[0;31m:\u001b[0m invalid syntax\n"
     ]
    }
   ],
   "source": [
    "# Balanced parentheses check\n",
    "\n",
    "### Given a string of opening and closing parentheses, check whether it is balanced\n",
    "### There are 3 types of parentheses here: round(), square brackets [], and curly brackets (braces){}\n",
    "\n",
    "_Assumptions_\n",
    "# 1. Assume the string doesnt contain any other character other than the ones mentioned above (no spaces, words or numbers).\n",
    "# 2. Balanced parentheses require every opening parenthesses to be closed in the reverse order opened.\n",
    "\n",
    "```\n",
    "Examples:\n",
    "balance_check(\"([{}])\") should return True\n",
    "balance_check(\"([{}])\") should return False\n",
    "\n",
    "Similarly:\n",
    "\"()()(){{{}}}\" is a balanced string\n",
    "\"()()(){]((()))\" is not\n",
    "```\n",
    "\n",
    "### Instructions\n",
    "Create a function called \"balance_check\" that takes a string as its parameter and return True if it is balanced considering the criteria mentioned above; Falseotherwise.\n",
    "\n"
   ]
  },
  {
   "cell_type": "code",
   "execution_count": 17,
   "id": "aaec79d3",
   "metadata": {},
   "outputs": [],
   "source": [
    "def balance_check(s):\n",
    "    if len(s) % 2 != 0:\n",
    "        return False\n",
    "    opening = set(\"([{\")\n",
    "    matches = set([\n",
    "        (\"(\", \")\"), \n",
    "        (\"[\", \"]\"), \n",
    "        (\"{\", \"}\")\n",
    "    ])\n",
    "    stack = []\n",
    "    for paren in s:\n",
    "        if paren in opening:\n",
    "            stack.append(paren)\n",
    "        else:\n",
    "            if stack == []:\n",
    "                return False\n",
    "            last_open = stack.pop()\n",
    "            if(last_open, paren) not in matches:\n",
    "                return False\n",
    "    return stack == []"
   ]
  },
  {
   "cell_type": "code",
   "execution_count": 18,
   "id": "932b2ac0",
   "metadata": {},
   "outputs": [
    {
     "data": {
      "text/plain": [
       "False"
      ]
     },
     "execution_count": 18,
     "metadata": {},
     "output_type": "execute_result"
    }
   ],
   "source": [
    "balance_check(\"(((([[[{{{}}}]]))))\")"
   ]
  },
  {
   "cell_type": "code",
   "execution_count": 19,
   "id": "ac59115a",
   "metadata": {},
   "outputs": [],
   "source": [
    "class Queue2Stacks:\n",
    "    def __init__(self):\n",
    "        #two stacks\n",
    "        self.stack1 = []\n",
    "        self.stack2 = []\n",
    "        \n",
    "    def enqueue(self):\n",
    "        # fill out code here\n",
    "        pass\n",
    "    \n",
    "    def dequeue(self):\n",
    "        # fill out code here\n",
    "        pass\n",
    "    "
   ]
  },
  {
   "cell_type": "code",
   "execution_count": 20,
   "id": "e45f578f",
   "metadata": {},
   "outputs": [],
   "source": [
    "class Node:\n",
    "    def __init__(self, data):\n",
    "        self.next = None\n",
    "        self.data = data"
   ]
  },
  {
   "cell_type": "code",
   "execution_count": null,
   "id": "0b43fef0",
   "metadata": {},
   "outputs": [],
   "source": [
    "class SinglyLinkedList:\n",
    "    def __init__(self):\n",
    "        self.head = None\n",
    "\n",
    "    def append(self, element):\n",
    "        if not self.head:\n",
    "            self.head = Node(element)\n",
    "        else:\n",
    "            current = self.head\n",
    "            while current.next:\n",
    "                current = current.next\n",
    "            current.next = Node(element)\n",
    "            \n",
    "    def insert(self, index, elemenet):\n",
    "        # implement the insert method which adds\n",
    "        #a new Node with \"element\" set as its data \n",
    "        #attribute\n",
    "        #before a given index (also a parameter to this method).\n",
    "        counter = 0\n",
    "        if not self.head:\n",
    "            self.head = Node(element)\n",
    "        else:\n",
    "            \n",
    "            \n",
    "            \n",
    "        "
   ]
  }
 ],
 "metadata": {
  "kernelspec": {
   "display_name": "Python 3 (ipykernel)",
   "language": "python",
   "name": "python3"
  },
  "language_info": {
   "codemirror_mode": {
    "name": "ipython",
    "version": 3
   },
   "file_extension": ".py",
   "mimetype": "text/x-python",
   "name": "python",
   "nbconvert_exporter": "python",
   "pygments_lexer": "ipython3",
   "version": "3.10.4"
  }
 },
 "nbformat": 4,
 "nbformat_minor": 5
}
