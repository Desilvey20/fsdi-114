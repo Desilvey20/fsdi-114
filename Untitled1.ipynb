{
 "cells": [
  {
   "cell_type": "code",
   "execution_count": 7,
   "id": "37c48f1d",
   "metadata": {},
   "outputs": [],
   "source": [
    "class Node:\n",
    "    def __init__(self, data):\n",
    "        self.above = None\n",
    "        self.below = None\n",
    "        self.data = data\n",
    "        "
   ]
  },
  {
   "cell_type": "code",
   "execution_count": 19,
   "id": "3cf0c9ac",
   "metadata": {},
   "outputs": [
    {
     "ename": "SyntaxError",
     "evalue": "incomplete input (3731686655.py, line 49)",
     "output_type": "error",
     "traceback": [
      "\u001b[0;36m  Input \u001b[0;32mIn [19]\u001b[0;36m\u001b[0m\n\u001b[0;31m    \u001b[0m\n\u001b[0m    ^\u001b[0m\n\u001b[0;31mSyntaxError\u001b[0m\u001b[0;31m:\u001b[0m incomplete input\n"
     ]
    }
   ],
   "source": [
    "class Stack:\n",
    "    def __init__(self):\n",
    "        self.base = None\n",
    "        self.top = None\n",
    "        \n",
    "    def push(self, element):\n",
    "        if not self.base:\n",
    "            self.base = Node(element)\n",
    "            self.top = self.base\n",
    "        else:\n",
    "            topmost_item = self.top\n",
    "            new_node = Node(element)\n",
    "            topmost_item.above = new_node\n",
    "            new_node.below = topmost_item\n",
    "            self.top = new_node\n",
    "            \n",
    "    def pop(self):\n",
    "        if not self.base:\n",
    "            raise IndexError(\"Stack empty\")\n",
    "        if self.top == self.base:\n",
    "            value = self.base.data\n",
    "            self.top = None\n",
    "            self.base = None\n",
    "            return value\n",
    "        new_top = self.top.below\n",
    "        old_top = self.top\n",
    "        new_top.above = None\n",
    "        self.top = new_top\n",
    "        return old_top.data\n",
    "        \n",
    "    def size(self):\n",
    "        if not self.base:\n",
    "            return 0\n",
    "        counter = 1\n",
    "        current = self.base\n",
    "        while current.above:\n",
    "            counter += 1\n",
    "            current = current.above\n",
    "        return counter\n",
    "    \n",
    "    def is_empty(self):\n",
    "        # should return True if the stack is empty, False if not\n",
    "        pass\n",
    "    \n",
    "    def peel(self):\n",
    "        # should return the \"data\" associated with the topmost  \n",
    "        # node without removing said nodefrom our stack\n",
    "        \n",
    "        "
   ]
  },
  {
   "cell_type": "code",
   "execution_count": 14,
   "id": "ef9fc348",
   "metadata": {},
   "outputs": [],
   "source": [
    "def reverse_string(mystring):\n",
    "    output_str = \"\"\n",
    "    stack = Stack()\n",
    "    for letter in mystring:\n",
    "        stack.push(letter)\n",
    "    for _ in range(len(mystring)):\n",
    "        output_str += stack.pop()\n",
    "    return output_str"
   ]
  },
  {
   "cell_type": "code",
   "execution_count": 10,
   "id": "3dbced4b",
   "metadata": {},
   "outputs": [
    {
     "data": {
      "text/plain": [
       "'leafaR'"
      ]
     },
     "execution_count": 10,
     "metadata": {},
     "output_type": "execute_result"
    }
   ],
   "source": [
    "reverse_string(\"Rafael\")"
   ]
  },
  {
   "cell_type": "code",
   "execution_count": 16,
   "id": "c13979a1",
   "metadata": {},
   "outputs": [
    {
     "ename": "AttributeError",
     "evalue": "'Stack' object has no attribute 'size'",
     "output_type": "error",
     "traceback": [
      "\u001b[0;31m---------------------------------------------------------------------------\u001b[0m",
      "\u001b[0;31mAttributeError\u001b[0m                            Traceback (most recent call last)",
      "Input \u001b[0;32mIn [16]\u001b[0m, in \u001b[0;36m<cell line: 5>\u001b[0;34m()\u001b[0m\n\u001b[1;32m      5\u001b[0m \u001b[38;5;28;01mtry\u001b[39;00m:\n\u001b[0;32m----> 6\u001b[0m     \u001b[38;5;28;01massert\u001b[39;00m \u001b[43mstack\u001b[49m\u001b[38;5;241;43m.\u001b[39;49m\u001b[43msize\u001b[49m() \u001b[38;5;241m==\u001b[39m \u001b[38;5;241m10\u001b[39m\n\u001b[1;32m      7\u001b[0m     \u001b[38;5;28mprint\u001b[39m(\u001b[38;5;124m\"\u001b[39m\u001b[38;5;124mTOK!\u001b[39m\u001b[38;5;124m\"\u001b[39m)\n",
      "\u001b[0;31mAttributeError\u001b[0m: 'Stack' object has no attribute 'size'",
      "\nDuring handling of the above exception, another exception occurred:\n",
      "\u001b[0;31mAttributeError\u001b[0m                            Traceback (most recent call last)",
      "Input \u001b[0;32mIn [16]\u001b[0m, in \u001b[0;36m<cell line: 5>\u001b[0;34m()\u001b[0m\n\u001b[1;32m      7\u001b[0m     \u001b[38;5;28mprint\u001b[39m(\u001b[38;5;124m\"\u001b[39m\u001b[38;5;124mTOK!\u001b[39m\u001b[38;5;124m\"\u001b[39m)\n\u001b[1;32m      8\u001b[0m \u001b[38;5;28;01mexcept\u001b[39;00m \u001b[38;5;167;01mException\u001b[39;00m \u001b[38;5;28;01mas\u001b[39;00m e:\n\u001b[0;32m----> 9\u001b[0m     \u001b[38;5;28mprint\u001b[39m(\u001b[43mstack\u001b[49m\u001b[38;5;241;43m.\u001b[39;49m\u001b[43msize\u001b[49m())\n",
      "\u001b[0;31mAttributeError\u001b[0m: 'Stack' object has no attribute 'size'"
     ]
    }
   ],
   "source": [
    "stack = Stack()\n",
    "for i in range(10):\n",
    "    stack.push(i)\n",
    "    \n",
    "try:\n",
    "    assert stack.size() == 10\n",
    "    print(\"TOK!\")\n",
    "except Exception as e:\n",
    "    print(stack.size())"
   ]
  },
  {
   "cell_type": "code",
   "execution_count": 22,
   "id": "13477b60",
   "metadata": {},
   "outputs": [
    {
     "name": "stdout",
     "output_type": "stream",
     "text": [
      "5\n",
      "4335190416\n",
      "4335190384\n"
     ]
    }
   ],
   "source": [
    "# passing by value\n",
    "x = 5\n",
    "y = x\n",
    "\n",
    "x+= 1\n",
    "\n",
    "print(y)\n",
    "\n",
    "print(id(x))\n",
    "print(id(y))"
   ]
  },
  {
   "cell_type": "code",
   "execution_count": 23,
   "id": "41ffcb17",
   "metadata": {},
   "outputs": [
    {
     "name": "stdout",
     "output_type": "stream",
     "text": [
      "[1, 2, 3, 4]\n",
      "4565916416\n",
      "4565916416\n"
     ]
    }
   ],
   "source": [
    "#passing by reference\n",
    "\n",
    "x = [1, 2, 3, 4, 5]\n",
    "\n",
    "y = x\n",
    "\n",
    "x.pop()\n",
    "\n",
    "print(y)\n",
    "\n",
    "print(id(x))\n",
    "print(id(y))"
   ]
  },
  {
   "cell_type": "code",
   "execution_count": 24,
   "id": "78f5efd8",
   "metadata": {},
   "outputs": [],
   "source": [
    "class Queue:\n",
    "    def __init__(self):\n",
    "        self.items = []\n",
    "        \n",
    "    def enqueue(self, element):\n",
    "        self.items.insert(0, element)\n",
    "        \n",
    "    def dequeue(self):\n",
    "        return self.items.pop()\n",
    "        \n",
    "    def size(self):\n",
    "        return len(self.items)\n",
    "        \n",
    "    def is_empty(self):\n",
    "        return self.items == []\n",
    "        \n",
    "    def peek(self):\n",
    "        return self.items[len(self.items)-1]\n",
    "    "
   ]
  },
  {
   "cell_type": "code",
   "execution_count": 25,
   "id": "f682b00f",
   "metadata": {},
   "outputs": [
    {
     "name": "stdout",
     "output_type": "stream",
     "text": [
      "element: 0\n",
      "element: 1\n",
      "element: 2\n",
      "element: 3\n",
      "element: 4\n",
      "element: 5\n",
      "element: 6\n",
      "element: 7\n",
      "element: 8\n",
      "element: 9\n"
     ]
    }
   ],
   "source": [
    "queue = Queue()\n",
    "\n",
    "for i in range(10):\n",
    "    queue.enqueue(i)\n",
    "    \n",
    "while not queue.is_empty():\n",
    "    print(\"element: %s\" % queue.dequeue())"
   ]
  },
  {
   "cell_type": "code",
   "execution_count": 26,
   "id": "0fa0a910",
   "metadata": {},
   "outputs": [],
   "source": [
    "# implement a Queue class without using a python list based on\n",
    "# our approach with stack.\n",
    "# Consider using a Node class for this as well."
   ]
  },
  {
   "cell_type": "code",
   "execution_count": 29,
   "id": "4f003bc4",
   "metadata": {},
   "outputs": [],
   "source": [
    "class Qnode:\n",
    "    def __init__(self, data):\n",
    "        self.front = None\n",
    "        self.back = None\n",
    "        self.date = data\n",
    "        \n",
    "class Queue:\n",
    "    def __init__(self):\n",
    "        self.next = None\n",
    "        self.last = None\n",
    "        \n",
    "    def enqueue(self,element):\n",
    "        new_node = Qnode(element)\n",
    "        if not self.last:\n",
    "            self.last = new_node\n",
    "            self.next = self.last\n",
    "        else:\n",
    "            new_node.front = self.last\n",
    "            self.last.back =new_node\n",
    "            self.last = new_node\n",
    "            \n",
    "    \n",
    "    def push(self, element):\n",
    "        if not self.back:\n",
    "            self.front = Node(element)\n",
    "            self.back = self.front\n",
    "        else:\n",
    "            last_item = self.back\n",
    "            new_node = Node(element)\n",
    "            last_item.above = new_node\n",
    "            new_node.below = last_item\n",
    "            self.back = new_node\n",
    "            \n",
    "    def pop(self):\n",
    "        if not self.front:\n",
    "            raise IndexError(\"Stack empty\")\n",
    "        if self.front == self.front:\n",
    "            value = self.front.data\n",
    "            self.front = None\n",
    "            self.back = None\n",
    "            return value\n",
    "        new_front = self.front.below\n",
    "        old_front = self.front\n",
    "        new_top.above = None\n",
    "        self.front = new_front\n",
    "        return old_front.data"
   ]
  },
  {
   "cell_type": "code",
   "execution_count": null,
   "id": "13b9885f",
   "metadata": {},
   "outputs": [],
   "source": []
  }
 ],
 "metadata": {
  "kernelspec": {
   "display_name": "Python 3.10.4 ('venv': venv)",
   "language": "python",
   "name": "python3"
  },
  "language_info": {
   "codemirror_mode": {
    "name": "ipython",
    "version": 3
   },
   "file_extension": ".py",
   "mimetype": "text/x-python",
   "name": "python",
   "nbconvert_exporter": "python",
   "pygments_lexer": "ipython3",
   "version": "3.10.4"
  },
  "vscode": {
   "interpreter": {
    "hash": "eb1d88a63f9949bf22d2e644bd3ffb56ba2920689e6207cc4dced16d197ebd80"
   }
  }
 },
 "nbformat": 4,
 "nbformat_minor": 5
}
