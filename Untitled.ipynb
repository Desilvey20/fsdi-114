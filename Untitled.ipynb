{
 "cells": [
  {
   "cell_type": "code",
   "execution_count": 1,
   "id": "298f58e9",
   "metadata": {},
   "outputs": [
    {
     "name": "stdout",
     "output_type": "stream",
     "text": [
      "h\n",
      "e\n",
      "l\n",
      "l\n",
      "o\n",
      ",\n",
      " \n",
      "w\n",
      "o\n",
      "r\n",
      "l\n",
      "d\n"
     ]
    }
   ],
   "source": [
    "for letter in \"hello, world\":\n",
    "    print(letter)"
   ]
  },
  {
   "cell_type": "markdown",
   "id": "ea779b91",
   "metadata": {},
   "source": [
    "# Problem 1\n",
    "\n",
    "### Given two strings (string_a and string_b) determine if they are anagrams of each other given the following criteria:\n",
    "\n",
    ">Two strings are only anagrams of each other if al conditions below are met:\n",
    "> * They must be exactly the same length\n",
    ">* They must use exactly the same characters (no more, no less).\n",
    "\n",
    "`Examples: cars and scar, heart and earth, etc.`\n",
    "\n",
    "## Instructions\n",
    "Create a function called \"anagram_check\" that returns true if the two parameters (both strings) submitted are anagrams of each other and false otherwise."
   ]
  },
  {
   "cell_type": "code",
   "execution_count": 2,
   "id": "bbc54a76",
   "metadata": {},
   "outputs": [],
   "source": [
    "# bad solution; Avoid this:\n",
    "def anagram_check(strl, str2):\n",
    "    return sorted(strl) == sorted(str2)"
   ]
  },
  {
   "cell_type": "code",
   "execution_count": 6,
   "id": "14386e80",
   "metadata": {},
   "outputs": [
    {
     "data": {
      "text/plain": [
       "True"
      ]
     },
     "execution_count": 6,
     "metadata": {},
     "output_type": "execute_result"
    }
   ],
   "source": [
    "anagram_check(\"god\", \"dog\")"
   ]
  },
  {
   "cell_type": "code",
   "execution_count": 4,
   "id": "8e0a383f",
   "metadata": {},
   "outputs": [
    {
     "data": {
      "text/plain": [
       "True"
      ]
     },
     "execution_count": 4,
     "metadata": {},
     "output_type": "execute_result"
    }
   ],
   "source": [
    "anagram_check(\"dog\", \"god\")"
   ]
  },
  {
   "cell_type": "code",
   "execution_count": 5,
   "id": "7765c4a7",
   "metadata": {},
   "outputs": [
    {
     "data": {
      "text/plain": [
       "True"
      ]
     },
     "execution_count": 5,
     "metadata": {},
     "output_type": "execute_result"
    }
   ],
   "source": [
    "anagram_check(\"they see\",\"the eyes\")"
   ]
  },
  {
   "cell_type": "code",
   "execution_count": 37,
   "id": "be388ca2",
   "metadata": {},
   "outputs": [],
   "source": [
    "def anagram_check(string_a, string_b):\n",
    "    string_a = (string_a.lower()).replace(\" \", \"\")\n",
    "    string_b = (string_b.lower()).replace(\" \", \"\")\n",
    "    if len(string_a) != len(string_b):\n",
    "        return False\n",
    "    char_times_a = dict()\n",
    "    char_times_b = dict()\n",
    "    for i in range(len(string_a)):\n",
    "        if string_a[i] not in char_times_a.keys():\n",
    "            char_times_a[string_a[i]] = 1\n",
    "        else:\n",
    "            char_times_a[string_a[i]] += 1\n",
    "        if string_b[i] not in char_times_b.keys():\n",
    "            char_times_b[string_b[i]] = 1\n",
    "        else:\n",
    "            char_times_b[string_b[i]] += 1\n",
    "    return char_times_a == char_times_b"
   ]
  },
  {
   "cell_type": "code",
   "execution_count": 38,
   "id": "46c7aea1",
   "metadata": {},
   "outputs": [
    {
     "data": {
      "text/plain": [
       "True"
      ]
     },
     "execution_count": 38,
     "metadata": {},
     "output_type": "execute_result"
    }
   ],
   "source": [
    "anagram_check(\"they see\",\"the eyes\")"
   ]
  },
  {
   "cell_type": "code",
   "execution_count": 39,
   "id": "17110a4d",
   "metadata": {},
   "outputs": [
    {
     "data": {
      "text/plain": [
       "True"
      ]
     },
     "execution_count": 39,
     "metadata": {},
     "output_type": "execute_result"
    }
   ],
   "source": [
    "anagram_check(\"I am Lord Voldemort\",\"Tom Marvolo Riddle\")"
   ]
  },
  {
   "cell_type": "code",
   "execution_count": 40,
   "id": "0c538f2a",
   "metadata": {},
   "outputs": [],
   "source": [
    "class Stack:\n",
    "    def __init__(self):\n",
    "        self.items = []\n",
    "        \n",
    "    def push(self, element):\n",
    "        self.items.append(element)\n",
    "        \n",
    "    def pop(self):\n",
    "        self.items.pop()\n",
    "        \n",
    "    def size(self):\n",
    "        return len(self.items)\n",
    "    \n",
    "    def peek(self):\n",
    "        return self.items[len(self.items-1)]\n",
    "    \n",
    "    def is_empty(self):\n",
    "        return self.items == []\n",
    "    "
   ]
  },
  {
   "cell_type": "markdown",
   "id": "b4eec2c5",
   "metadata": {},
   "source": [
    "# Problem 2\n",
    "### Use our stack class to invert a string.\n",
    "\n",
    "## Instructions\n",
    "Create a function called \"string_reverse\" that takes a string as a parameter and inverts it using our stack class.\n",
    "*Your function must use our stack class!*\n",
    "\n",
    "Examples:\n",
    "```\n",
    "string_reverse(\"David\") should return \"divaD\"\n",
    "string_reverse(\"cars\") should return \"srac\"\n",
    "etc\n",
    "```"
   ]
  },
  {
   "cell_type": "code",
   "execution_count": null,
   "id": "5b4ce387",
   "metadata": {},
   "outputs": [],
   "source": []
  }
 ],
 "metadata": {
  "kernelspec": {
   "display_name": "Python 3 (ipykernel)",
   "language": "python",
   "name": "python3"
  },
  "language_info": {
   "codemirror_mode": {
    "name": "ipython",
    "version": 3
   },
   "file_extension": ".py",
   "mimetype": "text/x-python",
   "name": "python",
   "nbconvert_exporter": "python",
   "pygments_lexer": "ipython3",
   "version": "3.10.4"
  }
 },
 "nbformat": 4,
 "nbformat_minor": 5
}
